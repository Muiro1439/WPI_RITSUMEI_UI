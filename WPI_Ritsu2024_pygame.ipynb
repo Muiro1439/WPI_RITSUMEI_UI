{
 "cells": [
  {
   "cell_type": "code",
   "execution_count": 1,
   "id": "7a699699",
   "metadata": {},
   "outputs": [
    {
     "name": "stdout",
     "output_type": "stream",
     "text": [
      "Requirement already satisfied: pygame in c:\\users\\yiya3\\appdata\\local\\programs\\python\\python39\\lib\\site-packages (2.6.0)\n",
      "Note: you may need to restart the kernel to use updated packages.\n"
     ]
    },
    {
     "name": "stderr",
     "output_type": "stream",
     "text": [
      "\n",
      "[notice] A new release of pip is available: 23.3.1 -> 24.2\n",
      "[notice] To update, run: python.exe -m pip install --upgrade pip\n"
     ]
    }
   ],
   "source": [
    "pip install pygame"
   ]
  },
  {
   "cell_type": "code",
   "execution_count": 2,
   "id": "f7239095",
   "metadata": {
    "scrolled": true
   },
   "outputs": [
    {
     "name": "stdout",
     "output_type": "stream",
     "text": [
      "pygame 2.6.0 (SDL 2.28.4, Python 3.9.7)\n",
      "Hello from the pygame community. https://www.pygame.org/contribute.html\n"
     ]
    },
    {
     "ename": "SystemExit",
     "evalue": "",
     "output_type": "error",
     "traceback": [
      "An exception has occurred, use %tb to see the full traceback.\n",
      "\u001b[1;31mSystemExit\u001b[0m\n"
     ]
    },
    {
     "name": "stderr",
     "output_type": "stream",
     "text": [
      "C:\\Users\\yiya3\\AppData\\Local\\Programs\\Python\\Python39\\lib\\site-packages\\IPython\\core\\interactiveshell.py:3558: UserWarning: To exit: use 'exit', 'quit', or Ctrl-D.\n",
      "  warn(\"To exit: use 'exit', 'quit', or Ctrl-D.\", stacklevel=1)\n"
     ]
    }
   ],
   "source": [
    "import pygame, sys\n",
    "from pygame.locals import *\n",
    "\n",
    "# 初始化\n",
    "pygame.init()\n",
    "\n",
    "# 設定視窗\n",
    "DISPLAYSURF = pygame.display.set_mode((1280,720))\n",
    "\n",
    "# 設定一些基本的數值\n",
    "StartJPImg = pygame.image.load('GameStartJP.png')\n",
    "PlayerJPImg = pygame.image.load('PlayerJP.png')\n",
    "IntroJPImg = pygame.image.load('IntroJP.png')\n",
    "StartENImg = pygame.image.load('GameStartEN.png')\n",
    "PlayerENImg = pygame.image.load('PlayerEN.png')\n",
    "IntroENImg = pygame.image.load('IntroEN.png')\n",
    "Startx = 0\n",
    "Starty = 0\n",
    "\n",
    "# Global\n",
    "current_image = StartJPImg\n",
    "current_State = 0\n",
    "\n",
    "#StartJP_flag = 0\n",
    "#StartEN_flag = 1\n",
    "#PlayerJP_flag = 2\n",
    "#PlayerEN_flag = 3\n",
    "#IntroJP_flag = 4\n",
    "#IntroEN_flag = 5\n",
    "\n",
    "# 設定顏色\n",
    "RED = (255, 0, 0)\n",
    "\n",
    "def isInRect(p,rect):\n",
    "    x1, y1 = p\n",
    "    x2, y2, len, width = rect\n",
    "    if(x1<x2 or x1 > x2+len) : \n",
    "        return False\n",
    "    elif (y1<y2 or y1>y2+width) : \n",
    "        return False\n",
    "    else: \n",
    "        return True\n",
    "    \n",
    "def click():\n",
    "    global current_image, current_State\n",
    "    x,y = pygame.mouse.get_pos()\n",
    "    if current_State == 0:#StartJP\n",
    "        if isInRect((x,y),(153, 472, 378, 102)): \n",
    "            current_image = PlayerJPImg\n",
    "            current_State = 2\n",
    "            \n",
    "        if isInRect((x,y),(749, 472, 378, 102)) : \n",
    "            current_image = IntroJPImg\n",
    "            current_State = 4\n",
    "            \n",
    "        if isInRect((x,y),(1050, 648, 200, 52)) : \n",
    "            current_image = StartENImg\n",
    "            current_State = 1\n",
    "            \n",
    "    elif current_State == 1:#StartEN\n",
    "        if isInRect((x,y),(153, 472, 378, 102)): \n",
    "            current_image = PlayerENImg\n",
    "            current_State = 3\n",
    "            \n",
    "        if isInRect((x,y),(749, 472, 378, 102)) : \n",
    "            current_image = IntroENImg\n",
    "            current_State = 5\n",
    "            \n",
    "        if isInRect((x,y),(27, 648, 200, 52)) : \n",
    "            current_image = StartJPImg\n",
    "            current_State = 0\n",
    "            \n",
    "    elif current_State == 2:#PlayerJP\n",
    "        #if isInRect((x,y),(153, 472, 378, 102)): \n",
    "            #current_image = PlayerENImg\n",
    "            #current_State = 3\n",
    "            \n",
    "        #if isInRect((x,y),(749, 472, 378, 102)) : \n",
    "            #current_image = IntroENImg\n",
    "            #current_State = 5\n",
    "            \n",
    "        if isInRect((x,y),(15, 648, 200, 52)) : \n",
    "            current_image = StartJPImg\n",
    "            current_State = 0\n",
    "    \n",
    "    elif current_State == 3:#PlayerEN\n",
    "        #if isInRect((x,y),(153, 472, 378, 102)): \n",
    "            #current_image = PlayerENImg\n",
    "            #current_State = 3\n",
    "            \n",
    "        #if isInRect((x,y),(749, 472, 378, 102)) : \n",
    "            #current_image = IntroENImg\n",
    "            #current_State = 5\n",
    "            \n",
    "        if isInRect((x,y),(15, 648, 200, 52)) : \n",
    "            current_image = StartENImg\n",
    "            current_State = 1\n",
    "    elif current_State == 4:#IntroJP\n",
    "            \n",
    "        if isInRect((x,y),(0, 0, 1280, 720)) : \n",
    "            current_image = StartJPImg\n",
    "            current_State = 0\n",
    "    elif current_State == 5:#IntroEN\n",
    "            \n",
    "        if isInRect((x,y),(0, 0, 1280, 720)) : \n",
    "            current_image = StartENImg\n",
    "            current_State = 1\n",
    "            \n",
    "while True: # the main game loop\n",
    "\n",
    "    # detect events\n",
    "    for event in pygame.event.get():\n",
    "        if event.type == QUIT:\n",
    "            pygame.quit()\n",
    "            sys.exit()\n",
    "        if event.type == MOUSEBUTTONDOWN:\n",
    "            click()\n",
    "    \n",
    "    DISPLAYSURF.blit(current_image, (Startx, Starty))\n",
    "    # Check Hitbox\n",
    "    #pygame.draw.rect(DISPLAYSURF, RED, (15, 648, 200, 52), 1)\n",
    "    # Update screen\n",
    "    pygame.display.flip()"
   ]
  },
  {
   "cell_type": "code",
   "execution_count": null,
   "id": "9d88108d",
   "metadata": {},
   "outputs": [],
   "source": []
  },
  {
   "cell_type": "code",
   "execution_count": null,
   "id": "6b0198d2",
   "metadata": {},
   "outputs": [],
   "source": []
  }
 ],
 "metadata": {
  "kernelspec": {
   "display_name": "Python 3 (ipykernel)",
   "language": "python",
   "name": "python3"
  },
  "language_info": {
   "codemirror_mode": {
    "name": "ipython",
    "version": 3
   },
   "file_extension": ".py",
   "mimetype": "text/x-python",
   "name": "python",
   "nbconvert_exporter": "python",
   "pygments_lexer": "ipython3",
   "version": "3.9.7"
  }
 },
 "nbformat": 4,
 "nbformat_minor": 5
}
